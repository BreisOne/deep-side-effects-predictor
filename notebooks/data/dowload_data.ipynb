{
 "cells": [
  {
   "cell_type": "code",
   "execution_count": 61,
   "metadata": {},
   "outputs": [],
   "source": [
    "import requests\n",
    "import gzip\n",
    "import shutil\n",
    "import os\n",
    "import json\n",
    "import time\n",
    "import pandas as pd\n",
    "from dotenv import load_dotenv"
   ]
  },
  {
   "cell_type": "code",
   "execution_count": 4,
   "metadata": {},
   "outputs": [],
   "source": [
    "# Cargar las variables de entorno desde el archivo .env\n",
    "load_dotenv()\n",
    "FAERS_API_KEY = os.getenv('FAERS_API_KEY')"
   ]
  },
  {
   "cell_type": "code",
   "execution_count": 12,
   "metadata": {},
   "outputs": [],
   "source": [
    "####Functions to download and unzip SIDER database\n",
    "def download_sider_data():\n",
    "    url = 'http://sideeffects.embl.de/media/download/meddra_all_label_se.tsv.gz'\n",
    "    # Obtener la ruta del directorio actual del script\n",
    "    script_dir = os.getcwd()\n",
    "    \n",
    "    # Construir la ruta relativa al directorio 'data/raw'\n",
    "    local_filename = os.path.join(script_dir, '..', '..', 'data', 'raw', 'meddra_all_label_se.tsv.gz')\n",
    "        \n",
    "    with requests.get(url, stream=True) as r:\n",
    "        with open(local_filename, 'wb') as f:\n",
    "            shutil.copyfileobj(r.raw, f)\n",
    "\n",
    "    print(\"Download and extraction complete from SIDER.\")\n",
    "\n",
    "def unzip_sider_data():\n",
    "    # Obtener la ruta del directorio actual del script\n",
    "    script_dir = os.getcwd()\n",
    "    \n",
    "    # Construir la ruta relativa al directorio 'data/raw'\n",
    "    local_filename = os.path.join(script_dir, '..', '..', 'data', 'raw', 'meddra_all_label_se.tsv.gz')\n",
    "    extracted_filename = os.path.join(script_dir, '..', '..', 'data', 'raw', 'sider_side_effects.tsv')\n",
    "    \n",
    "    # Verificar si el archivo sider_side_effects.tsv ya existe\n",
    "    if not os.path.exists(extracted_filename):\n",
    "        print(\"The file side_effects.tsv does not exist. Creating file...\")\n",
    "        # Si no existe, crear el archivo\n",
    "        with open(extracted_filename, 'w'):\n",
    "            pass  # Esto crea el archivo vacío\n",
    "        print(\"File successfully created.\")\n",
    "        \n",
    "    else:\n",
    "        print(\"The file side_effects.tsv already exists.\")\n",
    "    \n",
    "    print(\"Unzipping SIDER file...\")\n",
    "    with gzip.open(local_filename, 'rb') as f_in:\n",
    "        with open(extracted_filename, 'wb') as f_out:\n",
    "            shutil.copyfileobj(f_in, f_out)\n",
    "            print(\"Unzipped SIDER file\")"
   ]
  },
  {
   "cell_type": "code",
   "execution_count": 53,
   "metadata": {},
   "outputs": [],
   "source": [
    "#### Function to download adverse effects of a specific drug\n",
    "def download_openfda_data(drug_term):\n",
    "    base_url = 'https://api.fda.gov/drug/event.json'\n",
    "    params = {\n",
    "        'api_key': FAERS_API_KEY,\n",
    "        'search': f'\"patient.drug.medicinalproduct.exact:\"\"{drug_term}\"',\n",
    "        'count': \"patient.reaction.reactionmeddrapt.exact\",\n",
    "        'limit': 1000\n",
    "    }\n",
    "    headers = {\n",
    "        'Content-Type': 'application/json', \n",
    "    }\n",
    "    \n",
    "    # Obtener la ruta del directorio actual del script\n",
    "    notebook_dir = os.getcwd()\n",
    "\n",
    "    # Construir la ruta relativa al directorio 'data/raw'\n",
    "    local_filename = os.path.join(notebook_dir, '..', '..', 'data', 'raw', 'openfda_data.json')\n",
    "    \n",
    "    try:\n",
    "        \n",
    "        response = requests.get(base_url, params=params, headers=headers)\n",
    "        response.raise_for_status()\n",
    "        \n",
    "        # Convertir la respuesta a JSON\n",
    "        data = response.json()\n",
    "             \n",
    "        with open(local_filename, 'w') as f:\n",
    "            json.dump(data, f)\n",
    "        print(\"Download of OpenFDA data complete.\")\n",
    "        return data\n",
    "     \n",
    "    except requests.exceptions.RequestException as e:\n",
    "        print(f\"Error en la llamada a la API: {e}\")\n",
    "        \n",
    "        # Si hay una excepción HTTPError, imprimir la información del error\n",
    "        if isinstance(e, requests.exceptions.HTTPError):\n",
    "            print(f\"Status Code: {e.response.status_code}\")\n",
    "            print(f\"Response: {e.response.text}\")\n"
   ]
  },
  {
   "cell_type": "code",
   "execution_count": 50,
   "metadata": {},
   "outputs": [],
   "source": [
    "### Functions to obtain the 1000 drugnames with more cases reported of adverse events\n",
    "\n",
    "def get_drug_names():\n",
    "    base_url = 'https://api.fda.gov/drug/event.json'\n",
    "    params = {\n",
    "        'api_key': FAERS_API_KEY,\n",
    "        'count': 'patient.drug.medicinalproduct.exact',\n",
    "        'limit':10\n",
    "    }\n",
    "    \n",
    "    try:\n",
    "        response = requests.get(base_url, params=params)\n",
    "        response.raise_for_status()\n",
    "        \n",
    "        data = response.json()\n",
    "        results = data.get('results', [])\n",
    "        \n",
    "        all_drug_names = [result['term'] for result in results]\n",
    "        \n",
    "        with open('drug_names.json', 'w') as f:\n",
    "            json.dump(all_drug_names, f)\n",
    "        \n",
    "        print(\"Download of drug names complete.\")\n",
    "        return all_drug_names\n",
    "\n",
    "    except requests.exceptions.RequestException as e:\n",
    "        print(f\"API request error: {e}\")\n",
    "        if e.response:\n",
    "            print(f\"Status Code: {e.response.status_code}\")\n",
    "            print(f\"Response: {e.response.text}\")\n"
   ]
  },
  {
   "cell_type": "code",
   "execution_count": 59,
   "metadata": {},
   "outputs": [],
   "source": [
    "def obtain_fda_results_from_list(drugs):\n",
    "    \n",
    "    df_results = pd.DataFrame(columns=['farmaco', 'term', 'count'])\n",
    "\n",
    "    for drug in drugs:\n",
    "        data = download_openfda_data(drug)\n",
    "        \n",
    "        # Verificar si 'results' está presente en data\n",
    "        if data is not None and 'results' in data:\n",
    "            # Crear un DataFrame para los resultados del farmaco actual\n",
    "            df_drug = pd.DataFrame(data['results'])\n",
    "            df_drug['farmaco'] = drug\n",
    "            \n",
    "            # Concatenar al DataFrame principal\n",
    "            df_results = pd.concat([df_results, df_drug], ignore_index=True)\n",
    "        \n",
    "        # Añadir un tiempo de espera de 1 segundo\n",
    "        time.sleep(1)\n",
    "\n",
    "    return df_results"
   ]
  },
  {
   "cell_type": "code",
   "execution_count": 51,
   "metadata": {},
   "outputs": [
    {
     "name": "stdout",
     "output_type": "stream",
     "text": [
      "Download of drug names complete.\n"
     ]
    },
    {
     "data": {
      "text/plain": [
       "10"
      ]
     },
     "execution_count": 51,
     "metadata": {},
     "output_type": "execute_result"
    }
   ],
   "source": [
    "# Llama a la función para obtener los nombres de los fármacos\n",
    "drug_names = get_drug_names()\n",
    "len(drug_names)"
   ]
  },
  {
   "cell_type": "code",
   "execution_count": 46,
   "metadata": {},
   "outputs": [
    {
     "name": "stdout",
     "output_type": "stream",
     "text": [
      "Download of OpenFDA data complete.\n"
     ]
    },
    {
     "data": {
      "text/plain": [
       "{'meta': {'disclaimer': 'Do not rely on openFDA to make decisions regarding medical care. While we make every effort to ensure that data is accurate, you should assume all results are unvalidated. We may limit or otherwise restrict your access to the API in line with our Terms of Service.',\n",
       "  'terms': 'https://open.fda.gov/terms/',\n",
       "  'license': 'https://open.fda.gov/license/',\n",
       "  'last_updated': '2024-04-23',\n",
       "  'results': {'skip': 0, 'limit': 1, 'total': 17707126}},\n",
       " 'results': [{'safetyreportid': '5801206-7',\n",
       "   'transmissiondateformat': '102',\n",
       "   'transmissiondate': '20090109',\n",
       "   'serious': '1',\n",
       "   'seriousnessdeath': '1',\n",
       "   'receivedateformat': '102',\n",
       "   'receivedate': '20080707',\n",
       "   'receiptdateformat': '102',\n",
       "   'receiptdate': '20080625',\n",
       "   'fulfillexpeditecriteria': '1',\n",
       "   'companynumb': 'JACAN16471',\n",
       "   'primarysource': {'reportercountry': 'CANADA', 'qualification': '3'},\n",
       "   'sender': {'senderorganization': 'FDA-Public Use'},\n",
       "   'receiver': None,\n",
       "   'patient': {'patientonsetage': '26',\n",
       "    'patientonsetageunit': '801',\n",
       "    'patientsex': '1',\n",
       "    'patientdeath': {'patientdeathdateformat': None, 'patientdeathdate': None},\n",
       "    'reaction': [{'reactionmeddrapt': 'DRUG ADMINISTRATION ERROR'},\n",
       "     {'reactionmeddrapt': 'OVERDOSE'}],\n",
       "    'drug': [{'drugcharacterization': '1',\n",
       "      'medicinalproduct': 'DURAGESIC-100',\n",
       "      'drugauthorizationnumb': '019813',\n",
       "      'drugadministrationroute': '041',\n",
       "      'drugindication': 'DRUG ABUSE'}]}}]}"
      ]
     },
     "execution_count": 46,
     "metadata": {},
     "output_type": "execute_result"
    }
   ],
   "source": [
    "# Llama a la función para descargar los datos de un fármaco específico\n",
    "drug_term = 'aspirin'  # Cambia esto por el nombre del fármaco que deseas buscar\n",
    "download_openfda_data(drug_term)"
   ]
  },
  {
   "cell_type": "code",
   "execution_count": 63,
   "metadata": {},
   "outputs": [
    {
     "name": "stdout",
     "output_type": "stream",
     "text": [
      "Download of OpenFDA data complete.\n",
      "Download of OpenFDA data complete.\n",
      "Download of OpenFDA data complete.\n",
      "Download of OpenFDA data complete.\n",
      "Download of OpenFDA data complete.\n",
      "Download of OpenFDA data complete.\n",
      "Download of OpenFDA data complete.\n",
      "Download of OpenFDA data complete.\n",
      "Download of OpenFDA data complete.\n",
      "Download of OpenFDA data complete.\n",
      "Download of all OpenFDA data complete.\n"
     ]
    }
   ],
   "source": [
    "# Crea una lista para almacenar todos los resultados\n",
    "all_data = []\n",
    "\n",
    "# Itera sobre la lista de nombres de fármacos y descarga los datos de OpenFDA para cada uno\n",
    "all_data = obtain_fda_results_from_list(drug_names)\n",
    "\n",
    "# Guarda todos los resultados en un solo archivo CSV\n",
    "output_filename = os.path.join(os.getcwd(), '..', '..', 'data', 'raw', 'all_openfda_data.csv')\n",
    "all_data.to_csv(output_filename, index=False)\n",
    "\n",
    "\n",
    "print(\"Download of all OpenFDA data complete.\")"
   ]
  }
 ],
 "metadata": {
  "kernelspec": {
   "display_name": "env",
   "language": "python",
   "name": "python3"
  },
  "language_info": {
   "codemirror_mode": {
    "name": "ipython",
    "version": 3
   },
   "file_extension": ".py",
   "mimetype": "text/x-python",
   "name": "python",
   "nbconvert_exporter": "python",
   "pygments_lexer": "ipython3",
   "version": "3.10.0"
  }
 },
 "nbformat": 4,
 "nbformat_minor": 2
}
